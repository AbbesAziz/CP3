{
  "nbformat": 4,
  "nbformat_minor": 0,
  "metadata": {
    "colab": {
      "name": "CP3.ipynb",
      "provenance": [],
      "collapsed_sections": []
    },
    "kernelspec": {
      "name": "python3",
      "display_name": "Python 3"
    },
    "language_info": {
      "name": "python"
    }
  },
  "cells": [
    {
      "cell_type": "code",
      "metadata": {
        "colab": {
          "base_uri": "https://localhost:8080/"
        },
        "id": "de2a9YxuRMII",
        "outputId": "53133b1e-ae65-4c03-90bc-0889d102a23a"
      },
      "source": [
        "def maximum(a,b,c):\n",
        "    if (a>b) and (a>c):\n",
        "      return (a)\n",
        "    elif (b>a) and (b>c):\n",
        "      return (b)\n",
        "    elif (c>a) and (c>b):\n",
        "      return (c)\n",
        "Max = maximum(2,3,5)\n",
        "print(Max)"
      ],
      "execution_count": null,
      "outputs": [
        {
          "output_type": "stream",
          "text": [
            "5\n"
          ],
          "name": "stdout"
        }
      ]
    },
    {
      "cell_type": "code",
      "metadata": {
        "colab": {
          "base_uri": "https://localhost:8080/"
        },
        "id": "EGMl56h5SeXs",
        "outputId": "51ab144c-f1e1-4767-a71f-7f92071374f1"
      },
      "source": [
        "def calculation (a,b):\n",
        "  add =a+b\n",
        "  sub =a-b\n",
        "  return add,sub\n",
        "a=int(input('a= '))\n",
        "b=int(input('b= '))\n",
        "calculation(a,b)"
      ],
      "execution_count": null,
      "outputs": [
        {
          "output_type": "stream",
          "text": [
            "a= 40\n",
            "b= 10\n"
          ],
          "name": "stdout"
        },
        {
          "output_type": "execute_result",
          "data": {
            "text/plain": [
              "(50, 30)"
            ]
          },
          "metadata": {
            "tags": []
          },
          "execution_count": 20
        }
      ]
    },
    {
      "cell_type": "code",
      "metadata": {
        "id": "6toPUW10dFXN"
      },
      "source": [
        "def sumlist(thelist):\n",
        "    sum_numbers = 0\n",
        "    for x in thelist:\n",
        "        sum_numbers += x\n",
        "    return sum_numbers\n",
        "\n",
        "def multiplylist(thelist):\n",
        "    tot = 1\n",
        "    for x in thelist:\n",
        "        tot *= x\n",
        "    return tot\n",
        "\n",
        "lists=[5,4,8,9,2,6]\n",
        "list1=[]\n",
        "list2=[]\n",
        "for e,i in enumerate(lists):\n",
        "  if e%2==0:\n",
        "    list1.append(i)\n",
        "  else:\n",
        "\n",
        "    list2.append(i)"
      ],
      "execution_count": 1,
      "outputs": []
    },
    {
      "cell_type": "code",
      "metadata": {
        "colab": {
          "base_uri": "https://localhost:8080/"
        },
        "id": "Q4g9N-vrMK4u",
        "outputId": "597f348b-4adc-4c7e-e96e-b1d4b17e3c81"
      },
      "source": [
        "n=input(\"enter the string: \") \n",
        "l=n.split('-') \n",
        "l.sort() \n",
        "print('-'.join(l)) "
      ],
      "execution_count": 3,
      "outputs": [
        {
          "output_type": "stream",
          "text": [
            "enter the string: k-d-s-c-q-a-e-v\n",
            "a-c-d-e-k-q-s-v\n"
          ],
          "name": "stdout"
        }
      ]
    }
  ]
}